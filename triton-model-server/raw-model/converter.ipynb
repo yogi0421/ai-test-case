{
 "cells": [
  {
   "cell_type": "code",
   "execution_count": 5,
   "id": "bb670912-2451-409a-a525-07bfd31b81d7",
   "metadata": {},
   "outputs": [],
   "source": [
    "from ultralytics import YOLO"
   ]
  },
  {
   "cell_type": "code",
   "execution_count": 6,
   "id": "1e1c0f34-fc61-4b2f-90e4-ff72bccba5fe",
   "metadata": {},
   "outputs": [
    {
     "name": "stdout",
     "output_type": "stream",
     "text": [
      "--2024-03-16 14:10:49--  https://ultralytics.com/images/bus.jpg\n",
      "Resolving ultralytics.com (ultralytics.com)... 99.83.190.102, 75.2.70.75\n",
      "Connecting to ultralytics.com (ultralytics.com)|99.83.190.102|:443... connected.\n",
      "HTTP request sent, awaiting response... 301 Moved Permanently\n",
      "Location: https://www.ultralytics.com/images/bus.jpg [following]\n",
      "--2024-03-16 14:10:50--  https://www.ultralytics.com/images/bus.jpg\n",
      "Resolving www.ultralytics.com (www.ultralytics.com)... 104.18.1.125, 104.18.0.125\n",
      "Connecting to www.ultralytics.com (www.ultralytics.com)|104.18.1.125|:443... connected.\n",
      "HTTP request sent, awaiting response... 301 Moved Permanently\n",
      "Location: https://raw.githubusercontent.com/ultralytics/yolov5/master/data/images/bus.jpg [following]\n",
      "--2024-03-16 14:10:51--  https://raw.githubusercontent.com/ultralytics/yolov5/master/data/images/bus.jpg\n",
      "Resolving raw.githubusercontent.com (raw.githubusercontent.com)... 185.199.111.133, 185.199.110.133, 185.199.109.133, ...\n",
      "Connecting to raw.githubusercontent.com (raw.githubusercontent.com)|185.199.111.133|:443... connected.\n",
      "HTTP request sent, awaiting response... 200 OK\n",
      "Length: 487438 (476K) [image/jpeg]\n",
      "Saving to: ‘bus.jpg’\n",
      "\n",
      "bus.jpg             100%[===================>] 476.01K   870KB/s    in 0.5s    \n",
      "\n",
      "2024-03-16 14:10:52 (870 KB/s) - ‘bus.jpg’ saved [487438/487438]\n",
      "\n"
     ]
    }
   ],
   "source": [
    "!wget https://ultralytics.com/images/bus.jpg"
   ]
  },
  {
   "cell_type": "code",
   "execution_count": 7,
   "id": "8a5b5df0-d09e-49e5-a4a3-33766bcb89cc",
   "metadata": {},
   "outputs": [],
   "source": [
    "# Load the YOLOv8 model\n",
    "model = YOLO('/Users/yogiwahyuromadon/ai-test-case/triton-model-server/raw-model/yolov8n.pt')"
   ]
  },
  {
   "cell_type": "code",
   "execution_count": 10,
   "id": "2254d629-e6e1-48b6-a017-9869aa91642a",
   "metadata": {},
   "outputs": [
    {
     "name": "stdout",
     "output_type": "stream",
     "text": [
      "Ultralytics YOLOv8.1.29 🚀 Python-3.8.17 torch-2.0.1 CPU (Apple M1)\n",
      "YOLOv8n summary (fused): 168 layers, 3151904 parameters, 0 gradients, 8.7 GFLOPs\n",
      "\n",
      "\u001b[34m\u001b[1mPyTorch:\u001b[0m starting from '/Users/yogiwahyuromadon/ai-test-case/triton-model-server/raw-model/yolov8n.pt' with input shape (1, 3, 640, 640) BCHW and output shape(s) (1, 84, 8400) (6.2 MB)\n",
      "\n",
      "\u001b[34m\u001b[1mONNX:\u001b[0m starting export with onnx 1.15.0 opset 17...\n",
      "================ Diagnostic Run torch.onnx.export version 2.0.1 ================\n",
      "verbose: False, log level: Level.ERROR\n",
      "======================= 0 NONE 0 NOTE 0 WARNING 0 ERROR ========================\n",
      "\n",
      "\u001b[34m\u001b[1mONNX:\u001b[0m export success ✅ 0.5s, saved as '/Users/yogiwahyuromadon/ai-test-case/triton-model-server/raw-model/yolov8n.onnx' (12.2 MB)\n",
      "\n",
      "Export complete (0.8s)\n",
      "Results saved to \u001b[1m/Users/yogiwahyuromadon/ai-test-case/triton-model-server/raw-model\u001b[0m\n",
      "Predict:         yolo predict task=detect model=/Users/yogiwahyuromadon/ai-test-case/triton-model-server/raw-model/yolov8n.onnx imgsz=640  \n",
      "Validate:        yolo val task=detect model=/Users/yogiwahyuromadon/ai-test-case/triton-model-server/raw-model/yolov8n.onnx imgsz=640 data=coco.yaml  \n",
      "Visualize:       https://netron.app\n"
     ]
    },
    {
     "data": {
      "text/plain": [
       "'/Users/yogiwahyuromadon/ai-test-case/triton-model-server/raw-model/yolov8n.onnx'"
      ]
     },
     "execution_count": 10,
     "metadata": {},
     "output_type": "execute_result"
    }
   ],
   "source": [
    "# Export the model to ONNX format\n",
    "model.export(format='onnx')"
   ]
  },
  {
   "cell_type": "code",
   "execution_count": 13,
   "id": "d73f6cc8-3994-46f4-8eb8-1c5485e3222f",
   "metadata": {},
   "outputs": [],
   "source": [
    "!mv /Users/yogiwahyuromadon/ai-test-case/triton-model-server/raw-model/yolov8n.onnx /Users/yogiwahyuromadon/ai-test-case/triton-model-server/raw-model/model.onnx"
   ]
  },
  {
   "cell_type": "code",
   "execution_count": null,
   "id": "85df2a8a-7106-47f6-9eac-aa80929fa79e",
   "metadata": {
    "scrolled": true
   },
   "outputs": [],
   "source": []
  },
  {
   "cell_type": "code",
   "execution_count": null,
   "id": "7c32fedd-fb90-4753-b74d-fc27ff980c47",
   "metadata": {},
   "outputs": [],
   "source": []
  }
 ],
 "metadata": {
  "kernelspec": {
   "display_name": "python3.8",
   "language": "python",
   "name": "python3.8"
  },
  "language_info": {
   "codemirror_mode": {
    "name": "ipython",
    "version": 3
   },
   "file_extension": ".py",
   "mimetype": "text/x-python",
   "name": "python",
   "nbconvert_exporter": "python",
   "pygments_lexer": "ipython3",
   "version": "3.8.17"
  }
 },
 "nbformat": 4,
 "nbformat_minor": 5
}
